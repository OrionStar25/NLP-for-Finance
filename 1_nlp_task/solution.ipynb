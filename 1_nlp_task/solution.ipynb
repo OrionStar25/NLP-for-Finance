{
 "cells": [
  {
   "cell_type": "markdown",
   "id": "4c2d4202",
   "metadata": {},
   "source": [
    "# Named Entity Recognition"
   ]
  },
  {
   "cell_type": "markdown",
   "id": "02f304ab",
   "metadata": {},
   "source": [
    "## Task 1"
   ]
  },
  {
   "cell_type": "code",
   "execution_count": 49,
   "id": "234ed733",
   "metadata": {},
   "outputs": [
    {
     "data": {
      "text/html": [
       "<div>\n",
       "<style scoped>\n",
       "    .dataframe tbody tr th:only-of-type {\n",
       "        vertical-align: middle;\n",
       "    }\n",
       "\n",
       "    .dataframe tbody tr th {\n",
       "        vertical-align: top;\n",
       "    }\n",
       "\n",
       "    .dataframe thead th {\n",
       "        text-align: right;\n",
       "    }\n",
       "</style>\n",
       "<table border=\"1\" class=\"dataframe\">\n",
       "  <thead>\n",
       "    <tr style=\"text-align: right;\">\n",
       "      <th></th>\n",
       "      <th>articles</th>\n",
       "    </tr>\n",
       "  </thead>\n",
       "  <tbody>\n",
       "    <tr>\n",
       "      <th>0</th>\n",
       "      <td>@fansoniclove Gold the Tenrec\\n</td>\n",
       "    </tr>\n",
       "    <tr>\n",
       "      <th>1</th>\n",
       "      <td>Tokyo-bound Sampson sets Aust rifle record. Sh...</td>\n",
       "    </tr>\n",
       "    <tr>\n",
       "      <th>2</th>\n",
       "      <td>Originally posted by cordingup ↑ I see very in...</td>\n",
       "    </tr>\n",
       "    <tr>\n",
       "      <th>3</th>\n",
       "      <td>\"US 500 Futures Discussions. Hey guys what is ...</td>\n",
       "    </tr>\n",
       "    <tr>\n",
       "      <th>4</th>\n",
       "      <td>Good time to invest in gold?\"\\n</td>\n",
       "    </tr>\n",
       "  </tbody>\n",
       "</table>\n",
       "</div>"
      ],
      "text/plain": [
       "                                            articles\n",
       "0                    @fansoniclove Gold the Tenrec\\n\n",
       "1  Tokyo-bound Sampson sets Aust rifle record. Sh...\n",
       "2  Originally posted by cordingup ↑ I see very in...\n",
       "3  \"US 500 Futures Discussions. Hey guys what is ...\n",
       "4                    Good time to invest in gold?\"\\n"
      ]
     },
     "execution_count": 49,
     "metadata": {},
     "output_type": "execute_result"
    }
   ],
   "source": [
    "import pandas as pd\n",
    "\n",
    "with open('sample.txt') as f:\n",
    "    data = f.readlines()\n",
    "\n",
    "df = pd.DataFrame(data, columns=['articles'])\n",
    "df.head()"
   ]
  },
  {
   "cell_type": "code",
   "execution_count": 50,
   "id": "26f9199c",
   "metadata": {},
   "outputs": [
    {
     "name": "stdout",
     "output_type": "stream",
     "text": [
      "No. of articles:  1870\n",
      "Tokyo-bound Sampson sets Aust rifle record. Shooter Dane Sampson has struck career-best form as he builds towards a third Olympics, setting a national record while winning the 50m rifle event at the South Australia championships. Sampson registered a score of 462 points to claim gold in the three positions event. The performance bettered Sampson's own national record of 460.7 points, which he achieved at last month's Wingfield grand prix. The score was also notably higher than what Italy's Niccolo Campriani (458.8) and Poland's Tomasz Bartnik (460.4) produced to win gold at the 2016 Olympics and 2018 world championships respectively. \"It's good to be shooting PBs at this stage. It was a world-class finals score,\" Sampson said, having previously competed at the 2012 and 2016 Olympics. \"You are unlikely to lose many competitions with that score. \"I definitely feel that I am getting better and better and I am tracking well for Tokyo.\" Sampson and other members of Australia's shooting team for the 2021 Olympics are set to come together for a pre-Games camp on July 4-19. The camp is intended to mimic the biosecurity bubble and strict protocols that await in Tokyo.\n",
      "\n"
     ]
    }
   ],
   "source": [
    "print(\"No. of articles: \", len(df['articles']))\n",
    "print(df['articles'][1])"
   ]
  },
  {
   "cell_type": "markdown",
   "id": "7c54b2e1",
   "metadata": {},
   "source": [
    "## Task 2"
   ]
  },
  {
   "cell_type": "code",
   "execution_count": 51,
   "id": "b5c42232",
   "metadata": {},
   "outputs": [],
   "source": [
    "import matplotlib.pyplot as plt "
   ]
  },
  {
   "cell_type": "code",
   "execution_count": 52,
   "id": "862abc2e",
   "metadata": {},
   "outputs": [],
   "source": [
    "GOLD = 'gold'\n",
    "SILVER = 'silver'\n",
    "\n",
    "def contains_gold_silver(article):\n",
    "    if GOLD in article:\n",
    "        return GOLD, True\n",
    "    \n",
    "    if SILVER in article:\n",
    "        return SILVER, True\n",
    "    \n",
    "    return None, False"
   ]
  },
  {
   "cell_type": "code",
   "execution_count": 54,
   "id": "8e79d916",
   "metadata": {},
   "outputs": [],
   "source": [
    "df['articles'] = df['articles'].str.lower()\n",
    "df = df.assign(gold = False)\n",
    "df = df.assign(silver = False)\n",
    "counts = {GOLD: 0, SILVER: 0}\n",
    "\n",
    "for ind, article in enumerate(df['articles']):\n",
    "    obj, present = contains_gold_silver(article)\n",
    "\n",
    "    if present:\n",
    "        if obj == GOLD:\n",
    "            counts[GOLD] += 1\n",
    "            df.at[ind, GOLD] = True\n",
    "        else:\n",
    "            counts[SILVER] += 1\n",
    "            df.at[ind, SILVER] = True"
   ]
  },
  {
   "cell_type": "code",
   "execution_count": 71,
   "id": "27d84ec6",
   "metadata": {},
   "outputs": [
    {
     "data": {
      "image/png": "[encoded data removed]",
      "text/plain": [
       "<Figure size 400x400 with 1 Axes>"
      ]
     },
     "metadata": {},
     "output_type": "display_data"
    }
   ],
   "source": [
    "def addlabels(x,y):\n",
    "    for i in range(len(x)):\n",
    "        plt.text(i, y[i]//2, y[i], ha = 'center')\n",
    "\n",
    "objs = list(counts.keys())\n",
    "freq = list(counts.values())\n",
    "\n",
    "fig = plt.figure(figsize=(4, 4))\n",
    "plt.bar(objs, freq, width=0.2)\n",
    "addlabels(objs, freq)\n",
    "\n",
    "plt.xlabel(\"Commodities\")\n",
    "plt.ylabel(\"No. of articles\")\n",
    "plt.title(\"No. of articles with \\'gold\\' and \\'silver\\' keyword\")\n",
    "plt.show()"
   ]
  },
  {
   "cell_type": "code",
   "execution_count": 82,
   "id": "6c134293",
   "metadata": {},
   "outputs": [
    {
     "name": "stdout",
     "output_type": "stream",
     "text": [
      "every post and comment you have ever made was related to persuading people to buy silver.\n",
      "\n",
      "originally posted by kervio: ↑ i think the update said median age of the first set of patients was around mid 50s and median age of the later set of patients was around 69, so they would have only had to have put the inclusion criteria in half way through the trial when the evidence was emerging that age was a huge factor in deaths in order to have a successful trial. this is the big \"what if\" that might have sent the sp to $10, fda approval, lives saved etc.we can give them a pass on not knowing that up front for sure because of the speed in which the trial moved forwards on, but i think some reactivity would have saved the day here once more was known about covid (in the same way that we found out about comorbidities leading to higher rates of death).i disagree with this: \"this disease has been totally wacky in respect of different age cohorts, and no one has or has had any idea what is going to happen to any given age group once confronted with the disease or results/impact. covid has everyone flummoxed.\" until the brazil variant turned everything on its head (which happened after the trial) there was lots of clear evidence in white papers about the effect of age on covid mortality. the inclusion criteria is there to stop random chance from derailing your study, so if they had say 10 or so 80yo patients that were enrolled and bound to die no matter what it lessons the effect of your treatment on a saveable demographic within your cohort. i agree with your excitement on what the results though, and i think this therapy has some big potential to show effect and get approval in a confirmatory trial with appropriate design. it's better than i expected the results to be. expand hey,@kervio. good points on age effect. i guess i was thinking more broadly, say in respect of mis-c in kids, under-50s getting blood clots with the astra zeneca and j&j vaccines, etc. a lot about covid has been very unpredictable.as well, we don't know what conversations, if any, were had between msb, nih, the fda and the dsmb. clearly, someone made the decision not to modify the inclusion criteria and continue the trial, opting to halt it, instead. most likely not msb's choice, and i doubt they would have been given enough information by the dsmb to allow them to make this call on their own. i am clearly not qualified to speak on the issue, of course!leftyahoo had a good point about the silver lining here, though - we get the full trial results that much earlier, with it having been halted. fingers crossed the nih, the fda and novartis are as excited about these amazing results as we are!\n",
      "\n",
      "man utd hammer roma 6-2 in europa league semi-final. bruno fernandes and edinson cavani both scored twice as manchester united came from behind to take a major step towards sealing a place in next month’s europa league final. fernandes gave united a perfect start in their semi-final with italian side roma when he swept home cavani’s first-time lay-off. paul pogba’s handball allowed lorenzo pellegrini to equalise before the roma skipper’s pass allowed former manchester city striker edin dzeko to score his sixth goal in five old trafford appearances to turn the tie on its head by half-time. but united rallied after the break. cavani levelled with a superb first-time effort before tapping the hosts back in front when substitute keeper antonio mirante pushed aaron wan-bissaka’s angled shot into his path. ole gunnar solskjaer’s men were in no mood to let their advantage slip a second time, although it took a fortunate penalty for what seemed to be an innocuous chris smalling tackle on cavani to give fernandes the chance add a fourth from the spot. pogba then powered home a precise header from fernandes’ cross before greenwood ran on to cavani’s pass and drove home united’s sixth, making them the first side to score six goals in a major european semi-final since real madrid in the 1964 european cup. the final scoreline did not quite match united’s epic 7-1 champions league triumph against the same opponents in 2007 but for solskjaer, a substitute on that famous night, it was just as sweet. after four successive semi-final defeats in 15 months, the norwegian really needs to get beyond that stage to silence his doubters, some of whom were never convinced he should have succeeded jose mourinho as united boss and point to an absence of silverware that both his predecessor and louis van gaal delivered in shorter reigns at the club. solskjaer’s double fist-pump reaction to cavani’s equaliser underlined the importance of the uruguayan’s superb effort, swept into the top corner and part of a two-goal, three-assist contribution from the striker, whose contract expires in the summer. for once, it meant fernandes had to share top billing as he claimed two assists to go with his brace – although after a below-par couple of months, the portuguese seems to have recovered his form at the right time. pogba is united’s other big-name player and the midfielder ended an up-and-down night very much on the positive side, celebrating his header in style as the pressure was released. greenwood’s effort means only a catastrophe in the second leg can prevent united reaching their eighth european final.  – bbc\n",
      "\n",
      "$clsh cls holdings usa, inc. welcomes new board member, mr. ross silver https://t.co/lkekbx9p5t  #lasvagas… https://t.co/0hzqnrobeo\n",
      "\n",
      "new block opened at silverwater correction centre. video: new block opened at silverwater correction centre new block opened at silverwater correction centre we’re sorry, this service is currently unavailable. please try again later. dismiss skip to sections navigation skip to content skip to footer our networkartificial intelligence will be rolled out in a new block opening at sydney’s silverwater jail. april 30, 2021 — 7.23pm latest in video loading advertisement\n",
      "\n",
      "#newsmaker: cassandra wingrove heading up sales at mickey llew's australian office. performance marketing and seo agency mickey llew recently appointed cassandra wingrove to lead growth and development at its australian office. she has been tasked with developing and coordinating growth opportunities to reach the company’s sales objectives of $1.2 aud (r14m). she will also provide broad operational day-to-day support to the team as the australian offering and services were previously managed from the johannesburg head office. wingrove has a ba degree in communications and an honours in psychology from the university of johannesburg and brings a wealth of experience gained from the digital marketing sector. some of her core capabilities include forecasting the budgeting cycle, managing the financial reporting, developing online communication strategies and providing business intelligence. she says she’s excited to be joining the agency at such a crucial and dynamic period in its growth journey, with the australian expansion. “i am thrilled to be joining mickey llew at such an exciting time as the business expands into australia. it is also a very interesting time for digital with more opportunities than ever before. will you be based in south africa or australia? i am based in australia and have lived in sydney for the past five years. what is your job title and what does your role entail exactly? head of sales. i am focusing on building the foundations of the australian office, through new client acquisition and also managing the day-to-day operations. we do also have plans to grow out the australian team. how you plan to navigate the australian office through these unusual times? these are challenging times around the world, however, a silver lining is that it has allowed certain industries to flourish, such as e-commerce. there have been more opportunities for agencies like mickey llew as seo has never been so important, especially with travel being restricted. it has pushed consumers to discover local businesses nearby. what excites you most about the agency and the australian office in part? the opportunity at hand. mickey llew has built a reputable name for themselves in the south african market by forming strong relationships with their clients, delivering bespoke services and achieving bankable results. this has laid a strong foundation to scale the business fairly quickly and will allow us to build out an australian-based team. what are you most looking forward to or enjoying thus far? i am enjoying networking with other agencies and business owners. tell us more about your background/experience and how this has equipped you for the role. i have been in the tech industry for the past seven years. most of my time was spent at a global media intelligence company, which allowed me to be exposed to running new business processes across imea. i was then transferred to the company’s office based in australia, where i worked across their key account clients. this gave me exposure to many australian businesses across different industries. i have also been involved in a sideline business of selling on amazon marketplace in the usa, which has given me a good understanding of some of the foundations that make up seo, such as keyword research, product listing and running effective campaigns. what do you love most about your career? i love working in the tech industry because i believe in progress. people inevitably use technology to improve lives and help others. we spread knowledge, make tasks easier and make systems more efficient. also, the industry is fast-paced and always evolving, meaning that there is always something new to learn. what’s at the top of your to-do list? to start building out our local partnerships with other agencies and businesses. what are you currently reading/watching/listening to? i love listening to podcasts whilst i exercise. as a mom of two little boys, the ability to multitask is an essential personality trait. i am currently listening to kate toon’s the recipe for seo success, the serious sellers podcast and seo for the rest of us with brendan hufford. tell us something about yourself not generally known? i have my springbok colours for cheerleading. i competed in two world championships held in the usa.\n",
      "\n",
      "jpow is lucky he is a silver fox with lots of tools, wish he would return my calls 😕\"\n",
      "\n",
      "silver futures discussions. why moment not saw from 26.000,any problem let me know anybody\n",
      "\n",
      "silver futures discussions. once 69200 cross then again boom possible till 69500\n",
      "\n",
      "@silvers3211 in terms of story and such yeah 5ds was better(in the japanese version)  the english version of gx and… https://t.co/0kym4rvuuz\n",
      "\n"
     ]
    }
   ],
   "source": [
    "all_gold = df[df['gold'] == True]\n",
    "all_silver = df[df['silver'] == True]\n",
    "for a in all_silver['articles'][:10]:\n",
    "    print(a)"
   ]
  },
  {
   "cell_type": "code",
   "execution_count": 83,
   "id": "3a895fca",
   "metadata": {},
   "outputs": [
    {
     "name": "stdout",
     "output_type": "stream",
     "text": [
      "@fansoniclove gold the tenrec\n",
      "\n",
      "tokyo-bound sampson sets aust rifle record. shooter dane sampson has struck career-best form as he builds towards a third olympics, setting a national record while winning the 50m rifle event at the south australia championships. sampson registered a score of 462 points to claim gold in the three positions event. the performance bettered sampson's own national record of 460.7 points, which he achieved at last month's wingfield grand prix. the score was also notably higher than what italy's niccolo campriani (458.8) and poland's tomasz bartnik (460.4) produced to win gold at the 2016 olympics and 2018 world championships respectively. \"it's good to be shooting pbs at this stage. it was a world-class finals score,\" sampson said, having previously competed at the 2012 and 2016 olympics. \"you are unlikely to lose many competitions with that score. \"i definitely feel that i am getting better and better and i am tracking well for tokyo.\" sampson and other members of australia's shooting team for the 2021 olympics are set to come together for a pre-games camp on july 4-19. the camp is intended to mimic the biosecurity bubble and strict protocols that await in tokyo.\n",
      "\n",
      "originally posted by cordingup ↑ i see very interesting says the drill hole 33 now at 688 m so thats 88 m past the planned depth should mean they are still in mineralisation? also i see in the tenements list those other permits around the mcb area they are still pursuing under appeal i guess the appeal is regards large sections of those falling into a national park ??? one of those tenements from my reckoning hosts a copper gold resource another has a copper prospect. expand that does sound promising. gap up on open\n",
      "\n",
      "\"us 500 futures discussions. hey guys what is gold's history in may?  \n",
      "\n",
      "good time to invest in gold?\"\n",
      "\n",
      "gold edges lower as firmer us yields pinch appeal https://t.co/p0hpkmxvbz\n",
      "\n",
      "what’s your role in anglogold ashanti? – sam jonah questioned. after his public address to rotary club in accra, sam kwesi esson jonah kbe, has come under immense criticism from persons close to the government who feel that portions of his address attacked the executive. the latest criticism is coming from paul adom-otchere, host of good evening ghana (geg), who in his biweekly show on metro tv, tried to ‘punch holes’ in the senior stateman’s speech. according to him, sam jonah kbe, must have had a role in ashanti gold which later turned into anglogold ashanti, therefore, he should be able to tell the young people of ghana the role he played while working with the company. on his show, thursday, april 29, 2021, adom-otchere stated that, if sam jonah kbe wants to talk about the future of ghana, then he must first of all open up about his past. “sam jonah cannot come and talk about the future without answering questions about his past...it behoves him to make statements about his past. if he won’t say anything at all, at least we know his role with adisadel college and ashgold football club, we do not know his role in that major transaction that has punctuated the corporate and political history of our society, the ashanti transaction,” paul adom-otchere said on his show monitored by ghanaweb. he indicated that, there are two ashanti transactions, one was failed by the government of ghana, which left a lot of rancour’s between jj rawlings and sam jonah and their relationship broke off completely. “we don’t know the details. sam jonah must come and tell us. and then the transaction was rehashed and relaunched in 2001 and 2002, this time it was supported by the ja kufuor government and it was successful. in both transactions, there was a critical decision about the heritage of the ghanaian young person; because this gold resource, which is a ghanaian resource was being treated in a certain way, was it being treated in the right way to guarantee the future of the young people that today sam jonah is concerned about? “was it being treated in a certain way that eventually guaranteed our future? was there an option with randgold resources and other people who wanted to participate that could have been better for the future of ghana?” he asked. adom-otchere stressed that, sam jonah kbe must answer these questions. “he [sam jonah] is a big man, he has been around for a very long time, and he comes and says the youth of ghana, i now feel the responsibility to speak and you don’t tell us what you’ve been doing in the past, when you have had such a tenacious relationship with the political decision making of ghana since 1983; you won’t tell us what has happened about that…?” paul adom-otchere argues that, sam jonah’s answer to the question will help the ghanaian youth understand whether or not he has found a new philosophy or a new idea. “so that we can understand whether the idea you present today is the idea that has been with you for a very long time. if that idea that you present today is not an idea that has been with for a long time, it is still a welcome idea but we want to know so that we put it on record because the record is important,” he stressed.\n",
      "\n",
      "rt @trspartyonline: trs@20, a journey towards golden telangana  born to achieve statehood for telangana, trs is now unstoppable in developi…\n",
      "\n",
      "91.7 abc gold coast - australia https://t.co/mrlhsftqfo #australia, #misc\n",
      "\n",
      "gold futures discussions. so, any more short paper expire? moy said, but it's only a matter of time before the short contracts keeping the price down expire.\n",
      "\n"
     ]
    }
   ],
   "source": [
    "for a in all_gold['articles'][:10]:\n",
    "    print(a)"
   ]
  },
  {
   "cell_type": "markdown",
   "id": "be95498a",
   "metadata": {},
   "source": [
    "- no context considered, proper nouns have keyword, not semantic matches"
   ]
  },
  {
   "cell_type": "code",
   "execution_count": null,
   "id": "2bb29900",
   "metadata": {},
   "outputs": [],
   "source": []
  },
  {
   "cell_type": "code",
   "execution_count": null,
   "id": "1b848e74",
   "metadata": {},
   "outputs": [],
   "source": []
  },
  {
   "cell_type": "code",
   "execution_count": null,
   "id": "1353b682",
   "metadata": {},
   "outputs": [],
   "source": []
  },
  {
   "cell_type": "code",
   "execution_count": null,
   "id": "10b69c3a",
   "metadata": {},
   "outputs": [],
   "source": []
  },
  {
   "cell_type": "code",
   "execution_count": null,
   "id": "66b435ee",
   "metadata": {},
   "outputs": [],
   "source": []
  },
  {
   "cell_type": "code",
   "execution_count": null,
   "id": "87cf90fa",
   "metadata": {},
   "outputs": [],
   "source": []
  },
  {
   "cell_type": "markdown",
   "id": "2450210b",
   "metadata": {},
   "source": [
    "## Task 3"
   ]
  },
  {
   "cell_type": "code",
   "execution_count": null,
   "id": "3dc882c4",
   "metadata": {},
   "outputs": [],
   "source": []
  },
  {
   "cell_type": "code",
   "execution_count": null,
   "id": "4d287936",
   "metadata": {},
   "outputs": [],
   "source": []
  },
  {
   "cell_type": "code",
   "execution_count": null,
   "id": "fd2111f2",
   "metadata": {},
   "outputs": [],
   "source": []
  },
  {
   "cell_type": "markdown",
   "id": "119928d6",
   "metadata": {},
   "source": []
  },
  {
   "cell_type": "code",
   "execution_count": null,
   "id": "2af67df6",
   "metadata": {},
   "outputs": [],
   "source": []
  }
 ],
 "metadata": {
  "kernelspec": {
   "display_name": "market",
   "language": "python",
   "name": "python3"
  },
  "language_info": {
   "codemirror_mode": {
    "name": "ipython",
    "version": 3
   },
   "file_extension": ".py",
   "mimetype": "text/x-python",
   "name": "python",
   "nbconvert_exporter": "python",
   "pygments_lexer": "ipython3",
   "version": "3.9.18"
  }
 },
 "nbformat": 4,
 "nbformat_minor": 5
}
